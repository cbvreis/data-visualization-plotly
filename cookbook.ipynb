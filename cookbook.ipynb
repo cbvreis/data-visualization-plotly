{
 "cells": [
  {
   "cell_type": "code",
   "execution_count": 1,
   "metadata": {},
   "outputs": [],
   "source": [
    "import pandas as pd\n",
    "import numpy as np"
   ]
  },
  {
   "cell_type": "markdown",
   "metadata": {},
   "source": [
    "## Matriz"
   ]
  },
  {
   "cell_type": "code",
   "execution_count": 2,
   "metadata": {},
   "outputs": [],
   "source": [
    "x = np.array([[1,2,3],[4,5,6],[7,8,9]], np.int16)"
   ]
  },
  {
   "cell_type": "code",
   "execution_count": 3,
   "metadata": {},
   "outputs": [
    {
     "name": "stdout",
     "output_type": "stream",
     "text": [
      "[[1 2 3]\n",
      " [4 5 6]\n",
      " [7 8 9]]\n",
      "<class 'numpy.ndarray'>\n"
     ]
    }
   ],
   "source": [
    "print(x)\n",
    "print(type(x))"
   ]
  },
  {
   "cell_type": "code",
   "execution_count": 4,
   "metadata": {},
   "outputs": [
    {
     "name": "stdout",
     "output_type": "stream",
     "text": [
      "6\n",
      "6\n"
     ]
    }
   ],
   "source": [
    "#Posição na matriz\n",
    "print(x[1][2])\n",
    "print(x[1,2])"
   ]
  },
  {
   "cell_type": "code",
   "execution_count": 5,
   "metadata": {},
   "outputs": [
    {
     "name": "stdout",
     "output_type": "stream",
     "text": [
      "[1 4 7]\n",
      "[2 5 8]\n",
      "[3 6 9]\n"
     ]
    }
   ],
   "source": [
    "#Acessa a coluna especificada\n",
    "print(x[:,0])\n",
    "print(x[:,1])\n",
    "print(x[:,2])"
   ]
  },
  {
   "cell_type": "code",
   "execution_count": 6,
   "metadata": {},
   "outputs": [
    {
     "name": "stdout",
     "output_type": "stream",
     "text": [
      "[1 2 3]\n",
      "[4 5 6]\n",
      "[7 8 9]\n"
     ]
    }
   ],
   "source": [
    "#Acessa a linha especificada\n",
    "print(x[0,:])\n",
    "print(x[1,:])\n",
    "print(x[2,:])"
   ]
  },
  {
   "cell_type": "code",
   "execution_count": 7,
   "metadata": {},
   "outputs": [],
   "source": [
    "#aumentando a dimensão\n",
    "x = np.array([[[1,2,3],[4,5,6],[7,8,9]],[[10,11,12],[13,14,15],[16,17,18]]], np.int16)"
   ]
  },
  {
   "cell_type": "code",
   "execution_count": 8,
   "metadata": {},
   "outputs": [
    {
     "name": "stdout",
     "output_type": "stream",
     "text": [
      "[[1 2 3]\n",
      " [4 5 6]\n",
      " [7 8 9]]\n",
      "_____xxxx_____\n",
      "[[10 11 12]\n",
      " [13 14 15]\n",
      " [16 17 18]]\n"
     ]
    }
   ],
   "source": [
    "print(x[0])\n",
    "print('_____xxxx_____')\n",
    "print(x[1])"
   ]
  },
  {
   "cell_type": "code",
   "execution_count": 9,
   "metadata": {},
   "outputs": [
    {
     "name": "stdout",
     "output_type": "stream",
     "text": [
      "15\n"
     ]
    }
   ],
   "source": [
    "## quinto elemento da segunda matriz\n",
    "print(x[1][1][2])"
   ]
  },
  {
   "cell_type": "code",
   "execution_count": 10,
   "metadata": {},
   "outputs": [
    {
     "name": "stdout",
     "output_type": "stream",
     "text": [
      "[[ 1  4  7]\n",
      " [10 13 16]]\n"
     ]
    }
   ],
   "source": [
    "# Primeira linha de toda a matriz\n",
    "print(x[:,:,0])"
   ]
  },
  {
   "cell_type": "code",
   "execution_count": 11,
   "metadata": {},
   "outputs": [
    {
     "data": {
      "text/plain": [
       "array([[[ 1, 10],\n",
       "        [ 4, 13],\n",
       "        [ 7, 16]],\n",
       "\n",
       "       [[ 2, 11],\n",
       "        [ 5, 14],\n",
       "        [ 8, 17]],\n",
       "\n",
       "       [[ 3, 12],\n",
       "        [ 6, 15],\n",
       "        [ 9, 18]]], dtype=int16)"
      ]
     },
     "execution_count": 11,
     "metadata": {},
     "output_type": "execute_result"
    }
   ],
   "source": [
    "## Transpõe\n",
    "np.transpose(x)"
   ]
  },
  {
   "cell_type": "code",
   "execution_count": 12,
   "metadata": {},
   "outputs": [
    {
     "data": {
      "text/plain": [
       "array([[[ -2,  -3,  -4],\n",
       "        [ -5,  -6,  -7],\n",
       "        [ -8,  -9, -10]],\n",
       "\n",
       "       [[-11, -12, -13],\n",
       "        [-14, -15, -16],\n",
       "        [-17, -18, -19]]], dtype=int16)"
      ]
     },
     "execution_count": 12,
     "metadata": {},
     "output_type": "execute_result"
    }
   ],
   "source": [
    "np.invert(x)\n"
   ]
  },
  {
   "cell_type": "markdown",
   "metadata": {},
   "source": [
    "## Numpy Ndarray"
   ]
  },
  {
   "cell_type": "code",
   "execution_count": 13,
   "metadata": {},
   "outputs": [
    {
     "name": "stdout",
     "output_type": "stream",
     "text": [
      "(2, 3, 3)\n",
      "3\n",
      "int16\n",
      "18\n",
      "36\n"
     ]
    }
   ],
   "source": [
    "#shape\n",
    "print(x.shape)\n",
    "#dimensões\n",
    "print(x.ndim)\n",
    "#tipo\n",
    "print(x.dtype)\n",
    "#contagem elementos\n",
    "print(x.size)\n",
    "#tamanho em bytes\n",
    "print(x.nbytes)"
   ]
  },
  {
   "cell_type": "code",
   "execution_count": 14,
   "metadata": {},
   "outputs": [
    {
     "name": "stdout",
     "output_type": "stream",
     "text": [
      "[[[ 1 10]\n",
      "  [ 4 13]\n",
      "  [ 7 16]]\n",
      "\n",
      " [[ 2 11]\n",
      "  [ 5 14]\n",
      "  [ 8 17]]\n",
      "\n",
      " [[ 3 12]\n",
      "  [ 6 15]\n",
      "  [ 9 18]]]\n",
      "<built-in method transpose of numpy.ndarray object at 0x0000023DD618EBC0>\n"
     ]
    }
   ],
   "source": [
    "#Transpõe\n",
    "print(x.T)\n",
    "print(x.transpose)"
   ]
  },
  {
   "cell_type": "markdown",
   "metadata": {},
   "source": [
    "## Numpy Constants"
   ]
  },
  {
   "cell_type": "code",
   "execution_count": 15,
   "metadata": {},
   "outputs": [
    {
     "name": "stdout",
     "output_type": "stream",
     "text": [
      "inf\n",
      "nan\n",
      "-inf\n",
      "-0.0\n",
      "0.0\n",
      "2.718281828459045\n",
      "0.5772156649015329\n",
      "3.141592653589793\n"
     ]
    }
   ],
   "source": [
    "print(np.inf)\n",
    "print(np.NAN)\n",
    "print(np.NINF)\n",
    "print(np.NZERO)\n",
    "print(np.PZERO)\n",
    "print(np.e)\n",
    "print(np.euler_gamma)\n",
    "print(np.pi)"
   ]
  },
  {
   "cell_type": "markdown",
   "metadata": {},
   "source": [
    "## Matrizes esparsas e de valores bináriso"
   ]
  },
  {
   "cell_type": "code",
   "execution_count": 16,
   "metadata": {},
   "outputs": [],
   "source": [
    "x = np.empty([3,3], np.uint8)"
   ]
  },
  {
   "cell_type": "code",
   "execution_count": 17,
   "metadata": {},
   "outputs": [
    {
     "data": {
      "text/plain": [
       "array([[ 32,   6, 135],\n",
       "       [211,  61,   2],\n",
       "       [  0,   0,   0]], dtype=uint8)"
      ]
     },
     "execution_count": 17,
     "metadata": {},
     "output_type": "execute_result"
    }
   ],
   "source": [
    "x"
   ]
  },
  {
   "cell_type": "code",
   "execution_count": 18,
   "metadata": {},
   "outputs": [
    {
     "name": "stdout",
     "output_type": "stream",
     "text": [
      "[[1 0 0 0 0 0 0 0 0 0]\n",
      " [0 1 0 0 0 0 0 0 0 0]\n",
      " [0 0 1 0 0 0 0 0 0 0]\n",
      " [0 0 0 1 0 0 0 0 0 0]\n",
      " [0 0 0 0 1 0 0 0 0 0]\n",
      " [0 0 0 0 0 1 0 0 0 0]\n",
      " [0 0 0 0 0 0 1 0 0 0]\n",
      " [0 0 0 0 0 0 0 1 0 0]\n",
      " [0 0 0 0 0 0 0 0 1 0]\n",
      " [0 0 0 0 0 0 0 0 0 1]]\n"
     ]
    }
   ],
   "source": [
    "#cria matriz identidade\n",
    "x = np.eye(10,dtype=np.uint8)\n",
    "print(x)"
   ]
  },
  {
   "cell_type": "code",
   "execution_count": 19,
   "metadata": {},
   "outputs": [
    {
     "name": "stdout",
     "output_type": "stream",
     "text": [
      "[[0 0 0 0 0 0 0 0 0 0]\n",
      " [1 0 0 0 0 0 0 0 0 0]\n",
      " [0 1 0 0 0 0 0 0 0 0]\n",
      " [0 0 1 0 0 0 0 0 0 0]\n",
      " [0 0 0 1 0 0 0 0 0 0]\n",
      " [0 0 0 0 1 0 0 0 0 0]\n",
      " [0 0 0 0 0 1 0 0 0 0]\n",
      " [0 0 0 0 0 0 1 0 0 0]\n",
      " [0 0 0 0 0 0 0 1 0 0]\n",
      " [0 0 0 0 0 0 0 0 1 0]]\n"
     ]
    }
   ],
   "source": [
    "#descoloca k colunas\n",
    "x = np.eye(10,dtype=np.uint8,k=-1)\n",
    "print(x)"
   ]
  },
  {
   "cell_type": "code",
   "execution_count": 20,
   "metadata": {},
   "outputs": [
    {
     "name": "stdout",
     "output_type": "stream",
     "text": [
      "[[1 0 0 0 0]\n",
      " [0 1 0 0 0]\n",
      " [0 0 1 0 0]\n",
      " [0 0 0 1 0]\n",
      " [0 0 0 0 1]]\n"
     ]
    }
   ],
   "source": [
    "#Matriz identidade\n",
    "x=np.identity(5, dtype=np.uint8)\n",
    "print(x)\n"
   ]
  },
  {
   "cell_type": "code",
   "execution_count": 21,
   "metadata": {},
   "outputs": [
    {
     "data": {
      "text/plain": [
       "array([[[1, 1, 1, 1, 1],\n",
       "        [1, 1, 1, 1, 1],\n",
       "        [1, 1, 1, 1, 1]],\n",
       "\n",
       "       [[1, 1, 1, 1, 1],\n",
       "        [1, 1, 1, 1, 1],\n",
       "        [1, 1, 1, 1, 1]]], dtype=uint8)"
      ]
     },
     "execution_count": 21,
     "metadata": {},
     "output_type": "execute_result"
    }
   ],
   "source": [
    "x = np.ones((2,3,5), dtype=np.uint8)\n",
    "x"
   ]
  },
  {
   "cell_type": "code",
   "execution_count": 22,
   "metadata": {},
   "outputs": [
    {
     "data": {
      "text/plain": [
       "array([[[0, 0, 0, 0, 0],\n",
       "        [0, 0, 0, 0, 0],\n",
       "        [0, 0, 0, 0, 0]],\n",
       "\n",
       "       [[0, 0, 0, 0, 0],\n",
       "        [0, 0, 0, 0, 0],\n",
       "        [0, 0, 0, 0, 0]]], dtype=uint8)"
      ]
     },
     "execution_count": 22,
     "metadata": {},
     "output_type": "execute_result"
    }
   ],
   "source": [
    "x = np.zeros((2,3,5), dtype=np.uint8)\n",
    "x"
   ]
  },
  {
   "cell_type": "code",
   "execution_count": 23,
   "metadata": {},
   "outputs": [
    {
     "data": {
      "text/plain": [
       "array([[[2, 2, 2],\n",
       "        [2, 2, 2],\n",
       "        [2, 2, 2]],\n",
       "\n",
       "       [[2, 2, 2],\n",
       "        [2, 2, 2],\n",
       "        [2, 2, 2]],\n",
       "\n",
       "       [[2, 2, 2],\n",
       "        [2, 2, 2],\n",
       "        [2, 2, 2]]], dtype=int16)"
      ]
     },
     "execution_count": 23,
     "metadata": {},
     "output_type": "execute_result"
    }
   ],
   "source": [
    "x= np.full((3,3,3),dtype=np.int16, fill_value=2)\n",
    "x"
   ]
  },
  {
   "cell_type": "code",
   "execution_count": 24,
   "metadata": {},
   "outputs": [
    {
     "data": {
      "text/plain": [
       "array([[[2, 2, 2],\n",
       "        [2, 2, 2],\n",
       "        [2, 2, 2]],\n",
       "\n",
       "       [[2, 2, 2],\n",
       "        [2, 2, 2],\n",
       "        [2, 2, 2]],\n",
       "\n",
       "       [[2, 2, 2],\n",
       "        [2, 2, 2],\n",
       "        [2, 2, 2]]], dtype=int16)"
      ]
     },
     "execution_count": 24,
     "metadata": {},
     "output_type": "execute_result"
    }
   ],
   "source": [
    "x"
   ]
  },
  {
   "cell_type": "markdown",
   "metadata": {},
   "source": [
    "## Criação de Matrizes routines"
   ]
  },
  {
   "cell_type": "code",
   "execution_count": 25,
   "metadata": {},
   "outputs": [
    {
     "name": "stdout",
     "output_type": "stream",
     "text": [
      "[[1 0 0 0 0]\n",
      " [1 1 0 0 0]\n",
      " [1 1 1 0 0]\n",
      " [1 1 1 1 0]\n",
      " [1 1 1 1 1]]\n"
     ]
    }
   ],
   "source": [
    "# criação de matrizes triangulares\n",
    "x = np.tri(5,5,k=0, dtype=np.uint16)\n",
    "print(x)"
   ]
  },
  {
   "cell_type": "code",
   "execution_count": 26,
   "metadata": {},
   "outputs": [
    {
     "name": "stdout",
     "output_type": "stream",
     "text": [
      "[[1 1 0 0 0]\n",
      " [1 1 1 0 0]\n",
      " [1 1 1 1 0]\n",
      " [1 1 1 1 1]\n",
      " [1 1 1 1 1]]\n"
     ]
    }
   ],
   "source": [
    "# desloca a diagonal para k colunas\n",
    "x = np.tri(5,5,k=1, dtype=np.uint16)\n",
    "print(x)"
   ]
  },
  {
   "cell_type": "code",
   "execution_count": 27,
   "metadata": {},
   "outputs": [
    {
     "name": "stdout",
     "output_type": "stream",
     "text": [
      "[[1 1 1 1 1]\n",
      " [0 1 1 1 1]\n",
      " [0 0 1 1 1]\n",
      " [0 0 0 1 1]\n",
      " [0 0 0 0 1]]\n",
      "[[1 0 0 0 0]\n",
      " [1 1 0 0 0]\n",
      " [1 1 1 0 0]\n",
      " [1 1 1 1 0]\n",
      " [1 1 1 1 1]]\n"
     ]
    }
   ],
   "source": [
    "## matriz triangular superior, se np.tril() => triangular inferior\n",
    "x = np.ones((5,5), dtype = np.uint8)\n",
    "y = np.triu(x, k=0)\n",
    "z = np.tril(x, k=0)\n",
    "print(y)\n",
    "print(z)"
   ]
  },
  {
   "cell_type": "markdown",
   "metadata": {},
   "source": [
    "## Matplotlib"
   ]
  },
  {
   "cell_type": "code",
   "execution_count": 28,
   "metadata": {},
   "outputs": [],
   "source": [
    "%matplotlib inline"
   ]
  },
  {
   "cell_type": "code",
   "execution_count": 29,
   "metadata": {},
   "outputs": [],
   "source": [
    "import matplotlib.pyplot as plt"
   ]
  },
  {
   "cell_type": "code",
   "execution_count": 30,
   "metadata": {},
   "outputs": [
    {
     "name": "stdout",
     "output_type": "stream",
     "text": [
      "[0 1 2 3 4 5 6 7 8 9]\n",
      "[1 0 1 0 1 0 1 0 1 0]\n"
     ]
    }
   ],
   "source": [
    "x=np.arange(10)\n",
    "print(x)\n",
    "y = np.arange(10)\n",
    "y = np.where(y%2==0,1,0)\n",
    "print(y)"
   ]
  },
  {
   "cell_type": "code",
   "execution_count": 31,
   "metadata": {},
   "outputs": [
    {
     "data": {
      "image/png": "[encoded data removed]",
      "text/plain": [
       "<Figure size 432x288 with 1 Axes>"
      ]
     },
     "metadata": {
      "needs_background": "light"
     },
     "output_type": "display_data"
    }
   ],
   "source": [
    "# o: points\n",
    "# -: lines -- two lines\n",
    "# o-: points lines\n",
    "# +: points\n",
    "plt.plot(y,x, 'o--')\n",
    "plt.plot(y,-x*2, 'o-')\n",
    "plt.title('Graph title')\n",
    "plt.show()"
   ]
  },
  {
   "cell_type": "code",
   "execution_count": 32,
   "metadata": {},
   "outputs": [
    {
     "name": "stdout",
     "output_type": "stream",
     "text": [
      "[ 0.  1.  2.  3.  4.  5.  6.  7.  8.  9. 10.]\n",
      "[ 1.          1.25892541  1.58489319  1.99526231  2.51188643  3.16227766\n",
      "  3.98107171  5.01187234  6.30957344  7.94328235 10.        ]\n"
     ]
    }
   ],
   "source": [
    "N=11\n",
    "x=np.linspace(0,10,N)\n",
    "print(x)\n",
    "y=np.logspace(0,1,N)\n",
    "print(y)"
   ]
  },
  {
   "cell_type": "code",
   "execution_count": 33,
   "metadata": {},
   "outputs": [
    {
     "data": {
      "image/png": "[encoded data removed]",
      "text/plain": [
       "<Figure size 432x288 with 1 Axes>"
      ]
     },
     "metadata": {
      "needs_background": "light"
     },
     "output_type": "display_data"
    }
   ],
   "source": [
    "plt.plot(x,y,'o--')\n",
    "plt.axis('off')\n",
    "plt.title('Without axis')\n",
    "plt.show()"
   ]
  },
  {
   "cell_type": "code",
   "execution_count": 34,
   "metadata": {},
   "outputs": [
    {
     "data": {
      "image/png": "[encoded data removed]",
      "text/plain": [
       "<Figure size 432x288 with 1 Axes>"
      ]
     },
     "metadata": {
      "needs_background": "light"
     },
     "output_type": "display_data"
    }
   ],
   "source": [
    "plt.plot(x,y,'o--')\n",
    "plt.title('Log graph')\n",
    "plt.show()"
   ]
  },
  {
   "cell_type": "code",
   "execution_count": 35,
   "metadata": {},
   "outputs": [
    {
     "name": "stdout",
     "output_type": "stream",
     "text": [
      "[ 0.  1.  2.  3.  4.  5.  6.  7.  8.  9. 10.]\n",
      "[1.00000000e-01 2.51188643e-01 6.30957344e-01 1.58489319e+00\n",
      " 3.98107171e+00 1.00000000e+01 2.51188643e+01 6.30957344e+01\n",
      " 1.58489319e+02 3.98107171e+02 1.00000000e+03]\n"
     ]
    },
    {
     "data": {
      "image/png": "[encoded data removed]",
      "text/plain": [
       "<Figure size 432x288 with 1 Axes>"
      ]
     },
     "metadata": {
      "needs_background": "light"
     },
     "output_type": "display_data"
    }
   ],
   "source": [
    "y=np.geomspace(0.1,1000,N)\n",
    "x = np.linspace(0,10,N)\n",
    "print(x)\n",
    "print(y)\n",
    "plt.plot(x,y,'o--')\n",
    "plt.title('Geom Space')\n",
    "plt.show()"
   ]
  },
  {
   "cell_type": "code",
   "execution_count": 36,
   "metadata": {},
   "outputs": [],
   "source": [
    "x = np.random.randint(low=0, high=9, size=20)"
   ]
  },
  {
   "cell_type": "code",
   "execution_count": 37,
   "metadata": {},
   "outputs": [
    {
     "name": "stdout",
     "output_type": "stream",
     "text": [
      "[1 3 4 1 7 5 1 5 3 7 8 5 8 4 1 6 7 2 0 0]\n"
     ]
    }
   ],
   "source": [
    "print(x)"
   ]
  },
  {
   "cell_type": "code",
   "execution_count": 38,
   "metadata": {},
   "outputs": [],
   "source": [
    "x = np.random.normal(size=1000)"
   ]
  },
  {
   "cell_type": "code",
   "execution_count": 39,
   "metadata": {},
   "outputs": [
    {
     "data": {
      "text/plain": [
       "[<matplotlib.lines.Line2D at 0x23dd729fe20>]"
      ]
     },
     "execution_count": 39,
     "metadata": {},
     "output_type": "execute_result"
    },
    {
     "data": {
      "image/png": "[encoded data removed]",
      "text/plain": [
       "<Figure size 432x288 with 1 Axes>"
      ]
     },
     "metadata": {
      "needs_background": "light"
     },
     "output_type": "display_data"
    }
   ],
   "source": [
    "plt.plot(x)"
   ]
  },
  {
   "cell_type": "code",
   "execution_count": 40,
   "metadata": {},
   "outputs": [],
   "source": [
    "x = np.random.logistic(size=1000)"
   ]
  },
  {
   "cell_type": "code",
   "execution_count": 41,
   "metadata": {},
   "outputs": [
    {
     "data": {
      "text/plain": [
       "[<matplotlib.lines.Line2D at 0x23dd7224670>]"
      ]
     },
     "execution_count": 41,
     "metadata": {},
     "output_type": "execute_result"
    },
    {
     "data": {
      "image/png": "[encoded data removed]",
      "text/plain": [
       "<Figure size 432x288 with 1 Axes>"
      ]
     },
     "metadata": {
      "needs_background": "light"
     },
     "output_type": "display_data"
    }
   ],
   "source": [
    "plt.plot(x)"
   ]
  },
  {
   "cell_type": "code",
   "execution_count": 42,
   "metadata": {},
   "outputs": [],
   "source": [
    "#Gerando com N dimensões\n",
    "x = np.random.rand(3,3)"
   ]
  },
  {
   "cell_type": "code",
   "execution_count": 43,
   "metadata": {},
   "outputs": [
    {
     "name": "stdout",
     "output_type": "stream",
     "text": [
      "[0.8130276  0.48556137 0.3653592  0.85194556 0.94796389 0.23222066\n",
      " 0.47425667 0.55357522 0.6551817 ]\n",
      "[[0.8130276 ]\n",
      " [0.48556137]\n",
      " [0.3653592 ]\n",
      " [0.85194556]\n",
      " [0.94796389]\n",
      " [0.23222066]\n",
      " [0.47425667]\n",
      " [0.55357522]\n",
      " [0.6551817 ]]\n"
     ]
    }
   ],
   "source": [
    "print(np.reshape(x,9))\n",
    "print(x.reshape(9,1))"
   ]
  },
  {
   "cell_type": "code",
   "execution_count": 44,
   "metadata": {},
   "outputs": [
    {
     "name": "stdout",
     "output_type": "stream",
     "text": [
      "[[0.8130276  0.48556137 0.3653592 ]\n",
      " [0.85194556 0.94796389 0.23222066]\n",
      " [0.47425667 0.55357522 0.6551817 ]]\n",
      "[0.8130276  0.48556137 0.3653592  0.85194556 0.94796389 0.23222066\n",
      " 0.47425667 0.55357522 0.6551817 ]\n",
      "[0.8130276  0.85194556 0.47425667 0.48556137 0.94796389 0.55357522\n",
      " 0.3653592  0.23222066 0.6551817 ]\n"
     ]
    }
   ],
   "source": [
    "#mudança na ordem\n",
    "print(x)\n",
    "print(x.flatten('C'))\n",
    "print(x.flatten('F'))"
   ]
  },
  {
   "cell_type": "code",
   "execution_count": 45,
   "metadata": {},
   "outputs": [
    {
     "name": "stdout",
     "output_type": "stream",
     "text": [
      "[6 2 1 7 8 1 1 2 0 5 2 5 3 6 7 0 1 2 7 1]\n",
      "[4 1 5 8 7 6 7 3 2 5 0 6 6 5 8 5 3 7 4 0]\n",
      "[[6 2 1 7 8 1 1 2 0 5 2 5 3 6 7 0 1 2 7 1]\n",
      " [4 1 5 8 7 6 7 3 2 5 0 6 6 5 8 5 3 7 4 0]]\n"
     ]
    }
   ],
   "source": [
    "## unir listas\n",
    "x = np.random.randint(low=0, high=9, size=20)\n",
    "y = np.random.randint(low=0, high=9, size=20)\n",
    "\n",
    "print(x)\n",
    "print(y)\n",
    "z= np.stack((x,y))\n",
    "print(z)"
   ]
  },
  {
   "cell_type": "code",
   "execution_count": 46,
   "metadata": {},
   "outputs": [
    {
     "name": "stdout",
     "output_type": "stream",
     "text": [
      "[[6 4]\n",
      " [2 1]\n",
      " [1 5]\n",
      " [7 8]\n",
      " [8 7]\n",
      " [1 6]\n",
      " [1 7]\n",
      " [2 3]\n",
      " [0 2]\n",
      " [5 5]\n",
      " [2 0]\n",
      " [5 6]\n",
      " [3 6]\n",
      " [6 5]\n",
      " [7 8]\n",
      " [0 5]\n",
      " [1 3]\n",
      " [2 7]\n",
      " [7 4]\n",
      " [1 0]]\n"
     ]
    }
   ],
   "source": [
    "#mudança da dimensão\n",
    "z = np.stack((x,y),axis=-1)\n",
    "print(z)"
   ]
  },
  {
   "cell_type": "code",
   "execution_count": 47,
   "metadata": {},
   "outputs": [
    {
     "name": "stdout",
     "output_type": "stream",
     "text": [
      "366\n"
     ]
    }
   ],
   "source": [
    "z = np.dot(x,y)\n",
    "print(z)"
   ]
  },
  {
   "cell_type": "code",
   "execution_count": 48,
   "metadata": {},
   "outputs": [
    {
     "name": "stdout",
     "output_type": "stream",
     "text": [
      "[[ -6  12  -6]\n",
      " [  0   0   0]\n",
      " [  6 -12   6]]\n"
     ]
    }
   ],
   "source": [
    "x = np.array([[1,2,3], [4,5,6], [7, 8, 9]])\n",
    "y = np.array([[7, 8, 9], [4,5,6], [1,2,3]])\n",
    "\n",
    "z = np.cross(x,y)\n",
    "print(z)"
   ]
  },
  {
   "cell_type": "code",
   "execution_count": 49,
   "metadata": {},
   "outputs": [],
   "source": [
    "y= np.arange(2,80,5)\n",
    "a,b,c,d = np.split(y,4)"
   ]
  },
  {
   "cell_type": "code",
   "execution_count": 50,
   "metadata": {},
   "outputs": [
    {
     "name": "stdout",
     "output_type": "stream",
     "text": [
      "[ 2  7 12 17] [22 27 32 37] [42 47 52 57] [62 67 72 77]\n"
     ]
    }
   ],
   "source": [
    "print(a,b,c,d)"
   ]
  },
  {
   "cell_type": "markdown",
   "metadata": {},
   "source": [
    "## Bitwise operations"
   ]
  },
  {
   "cell_type": "code",
   "execution_count": 51,
   "metadata": {},
   "outputs": [
    {
     "name": "stdout",
     "output_type": "stream",
     "text": [
      "[0 0 1 1 0]\n",
      "[0 1 1 1 1]\n",
      "[255 254 254 254 255]\n",
      "[255 255 255 255 255]\n"
     ]
    }
   ],
   "source": [
    "x = np.array([0,1,1,1,0],np.uint8)\n",
    "y = np.array([0,0,1,1,1],np.uint8)\n",
    "\n",
    "print(np.bitwise_and(x,y))\n",
    "print(np.bitwise_or(x,y))\n",
    "print(np.bitwise_not(x,y))\n",
    "print(np.bitwise_xor(x,y))"
   ]
  },
  {
   "cell_type": "code",
   "execution_count": null,
   "metadata": {},
   "outputs": [],
   "source": []
  },
  {
   "cell_type": "code",
   "execution_count": 52,
   "metadata": {},
   "outputs": [
    {
     "name": "stdout",
     "output_type": "stream",
     "text": [
      "[0 1 1 1 0]\n"
     ]
    }
   ],
   "source": [
    "print(x)"
   ]
  },
  {
   "cell_type": "code",
   "execution_count": 53,
   "metadata": {},
   "outputs": [
    {
     "name": "stdout",
     "output_type": "stream",
     "text": [
      "6.0\n",
      "6.5\n",
      "6.5\n",
      "0\n",
      "14\n",
      "16.99\n",
      "4.121892769104989\n",
      "(array([13,  9, 19,  1,  9,  9, 13, 13,  7,  7], dtype=int64), array([ 0. ,  1.4,  2.8,  4.2,  5.6,  7. ,  8.4,  9.8, 11.2, 12.6, 14. ]))\n"
     ]
    }
   ],
   "source": [
    "x = np.random.randint(0,15,100)\n",
    "\n",
    "#Mediana\n",
    "print(np.median(x))\n",
    "#Média\n",
    "print(np.average(x))\n",
    "print(np.mean(x))\n",
    "#Max e Min\n",
    "print(np.min(x))\n",
    "print(np.max(x))\n",
    "#Dispersão\n",
    "print(np.var(x))\n",
    "print(np.std(x))\n",
    "#Freq\n",
    "print(np.histogram(x))"
   ]
  },
  {
   "cell_type": "markdown",
   "metadata": {},
   "source": [
    "## Matplotlib - pyplot"
   ]
  },
  {
   "cell_type": "code",
   "execution_count": 54,
   "metadata": {},
   "outputs": [
    {
     "data": {
      "image/png": "[encoded data removed]",
      "text/plain": [
       "<Figure size 432x288 with 1 Axes>"
      ]
     },
     "metadata": {
      "needs_background": "light"
     },
     "output_type": "display_data"
    }
   ],
   "source": [
    "x = np.random.randint(0,15,100)\n",
    "plt.plot(x)\n",
    "plt.title('Line Gráfico')\n",
    "plt.show()"
   ]
  },
  {
   "cell_type": "code",
   "execution_count": 55,
   "metadata": {},
   "outputs": [
    {
     "name": "stderr",
     "output_type": "stream",
     "text": [
      "<ipython-input-55-5efa4a772040>:6: RuntimeWarning: divide by zero encountered in log10\n",
      "  plt.plot(z,np.log10(z))\n"
     ]
    },
    {
     "data": {
      "image/png": "[encoded data removed]",
      "text/plain": [
       "<Figure size 432x288 with 1 Axes>"
      ]
     },
     "metadata": {
      "needs_background": "light"
     },
     "output_type": "display_data"
    }
   ],
   "source": [
    "x = np.random.randint(0,15,100)\n",
    "z = np.unique(x)\n",
    "plt.plot(z,z)\n",
    "plt.plot(z,z**1/3)\n",
    "plt.plot(z,z**1/2)\n",
    "plt.plot(z,np.log10(z))\n",
    "plt.title('Multiplots')\n",
    "plt.show()\n"
   ]
  },
  {
   "cell_type": "code",
   "execution_count": 56,
   "metadata": {},
   "outputs": [
    {
     "data": {
      "image/png": "[encoded data removed]",
      "text/plain": [
       "<Figure size 432x288 with 1 Axes>"
      ]
     },
     "metadata": {
      "needs_background": "light"
     },
     "output_type": "display_data"
    }
   ],
   "source": [
    "x = np.array([[1,5,7,8],[3,1,9,9]])\n",
    "plt.plot(x)\n",
    "plt.show()"
   ]
  },
  {
   "cell_type": "code",
   "execution_count": 57,
   "metadata": {},
   "outputs": [
    {
     "name": "stdout",
     "output_type": "stream",
     "text": [
      "[[ 0.33188091 -0.92081236  1.21771339 -0.70052634 -0.63544358 -1.90813297\n",
      "   1.01344295  0.09684473 -0.69510712 -1.11343417]\n",
      " [-0.24038087 -0.1956779   0.88428036  0.77809939 -0.82872353 -1.43832386\n",
      "   2.8807415  -0.8199892   0.26594457 -0.38420638]]\n"
     ]
    },
    {
     "data": {
      "text/plain": [
       "[<matplotlib.lines.Line2D at 0x23dd83855e0>]"
      ]
     },
     "execution_count": 57,
     "metadata": {},
     "output_type": "execute_result"
    },
    {
     "data": {
      "image/png": "[encoded data removed]",
      "text/plain": [
       "<Figure size 432x288 with 1 Axes>"
      ]
     },
     "metadata": {
      "needs_background": "light"
     },
     "output_type": "display_data"
    }
   ],
   "source": [
    "data = np.random.randn(2,10)\n",
    "print(data)\n",
    "plt.plot(data[0],data[1])"
   ]
  },
  {
   "cell_type": "code",
   "execution_count": 58,
   "metadata": {},
   "outputs": [
    {
     "data": {
      "image/png": "[encoded data removed]",
      "text/plain": [
       "<Figure size 432x288 with 1 Axes>"
      ]
     },
     "metadata": {
      "needs_background": "light"
     },
     "output_type": "display_data"
    }
   ],
   "source": [
    "x = np.arange(20)\n",
    "plt.plot(x, label='x')\n",
    "plt.plot(x/3,label='x/3')\n",
    "plt.plot(x/2,label = 'x/2')\n",
    "plt.grid(True)\n",
    "#range x e range y plt.xlim() or y.lim() para definir separadamente\n",
    "plt.axis([0,20,0,20])\n",
    "plt.xlabel('x = np.arrange(20)')\n",
    "plt.ylabel('y = f(x)')\n",
    "## podemos passar uma lista de string como legenda\n",
    "#loc pode mudar a posicao da legenda\n",
    "plt.legend(loc='upper center')\n",
    "plt.title('np.arrange(20) vs f(x)')\n",
    "plt.savefig('data.png')\n",
    "plt.show()"
   ]
  },
  {
   "cell_type": "code",
   "execution_count": 59,
   "metadata": {},
   "outputs": [
    {
     "data": {
      "image/png": "[encoded data removed]",
      "text/plain": [
       "<Figure size 432x288 with 1 Axes>"
      ]
     },
     "metadata": {
      "needs_background": "light"
     },
     "output_type": "display_data"
    }
   ],
   "source": [
    "#Markdown e Markers\n",
    "y=x\n",
    "\n",
    "plt.plot(x,y+10,'g')\n",
    "plt.plot(x,y+9,'y')\n",
    "plt.plot(x,y+8,'r')\n",
    "plt.plot(x,y+7,'c')\n",
    "plt.plot(x,y+6,'k')\n",
    "plt.plot(x,y+5,'m')\n",
    "plt.plot(x,y+4,'w')\n",
    "plt.plot(x,y+3,'b')\n",
    "plt.show()\n",
    "\n"
   ]
  },
  {
   "cell_type": "code",
   "execution_count": 60,
   "metadata": {},
   "outputs": [
    {
     "data": {
      "image/png": "[encoded data removed]",
      "text/plain": [
       "<Figure size 432x288 with 1 Axes>"
      ]
     },
     "metadata": {
      "needs_background": "light"
     },
     "output_type": "display_data"
    }
   ],
   "source": [
    "y=x\n",
    "\n",
    "plt.plot(x,y+10,'.')\n",
    "plt.plot(x,y+9,',')\n",
    "plt.plot(x,y+8,'o')\n",
    "plt.plot(x,y+7,'<')\n",
    "plt.plot(x,y+6,'>')\n",
    "plt.plot(x,y+5,'v')\n",
    "plt.plot(x,y+4,'^')\n",
    "plt.plot(x,y+3,'1')\n",
    "plt.plot(x,y+2,'2')\n",
    "plt.plot(x,y+1,'3')\n",
    "plt.show()"
   ]
  },
  {
   "cell_type": "code",
   "execution_count": 61,
   "metadata": {},
   "outputs": [
    {
     "data": {
      "image/png": "[encoded data removed]",
      "text/plain": [
       "<Figure size 432x288 with 1 Axes>"
      ]
     },
     "metadata": {
      "needs_background": "light"
     },
     "output_type": "display_data"
    }
   ],
   "source": [
    "y=x\n",
    "\n",
    "plt.plot(x,y+10,'.')\n",
    "plt.plot(x,y+9,',')\n",
    "plt.plot(x,y+8,'-.')\n",
    "plt.plot(x,y+7,':')\n",
    "plt.show()"
   ]
  },
  {
   "cell_type": "code",
   "execution_count": 62,
   "metadata": {},
   "outputs": [
    {
     "data": {
      "image/png": "[encoded data removed]",
      "text/plain": [
       "<Figure size 432x288 with 1 Axes>"
      ]
     },
     "metadata": {
      "needs_background": "light"
     },
     "output_type": "display_data"
    }
   ],
   "source": [
    "y=x\n",
    "\n",
    "plt.plot(x,y+10,'mo--')\n",
    "plt.plot(x,y+9,'g*-.')\n",
    "plt.show()"
   ]
  },
  {
   "cell_type": "code",
   "execution_count": 63,
   "metadata": {},
   "outputs": [
    {
     "data": {
      "image/png": "[encoded data removed]",
      "text/plain": [
       "<Figure size 432x288 with 1 Axes>"
      ]
     },
     "metadata": {
      "needs_background": "light"
     },
     "output_type": "display_data"
    }
   ],
   "source": [
    "plt.plot(x,y,color='g', linestyle='-', linewidth=1.5,marker='^', \n",
    "         markerfacecolor='b',markeredgecolor='k',\n",
    "        markeredgewidth=1.5,markersize=6)\n",
    "plt.grid(True)\n",
    "plt.xticks(range(6),['a','b','c','d','e','f'])\n",
    "plt.yticks(range(1,15,3))\n",
    "plt.show()"
   ]
  },
  {
   "cell_type": "code",
   "execution_count": 64,
   "metadata": {},
   "outputs": [],
   "source": [
    "import plotly.graph_objs as go\n",
    "from plotly.offline import plot"
   ]
  },
  {
   "cell_type": "markdown",
   "metadata": {},
   "source": [
    "## Scatter plot"
   ]
  },
  {
   "cell_type": "code",
   "execution_count": 65,
   "metadata": {},
   "outputs": [
    {
     "data": {
      "text/plain": [
       "'scatterplot.html'"
      ]
     },
     "execution_count": 65,
     "metadata": {},
     "output_type": "execute_result"
    }
   ],
   "source": [
    "N=1000\n",
    "random_x = np.random.randn(N)\n",
    "random_y = np.random.randn(N)\n",
    "trace = go.Scatter(\n",
    "                    x = random_x,\n",
    "                    y = random_y,\n",
    "                    mode='markers')\n",
    "data = [trace]\n",
    "plot(data, filename='scatterplot.html')\n"
   ]
  },
  {
   "cell_type": "code",
   "execution_count": 66,
   "metadata": {},
   "outputs": [
    {
     "data": {
      "text/plain": [
       "'scatterplot-two.html'"
      ]
     },
     "execution_count": 66,
     "metadata": {},
     "output_type": "execute_result"
    }
   ],
   "source": [
    "N=100\n",
    "random_x = np.linspace(0,1,N)\n",
    "random_y0 = np.random.randn(N)/10\n",
    "random_y1 = np.random.randn(N)+5\n",
    "random_y2 = np.random.randn(N)-5\n",
    "\n",
    "trace0 = go.Scatter(\n",
    "                    x = random_x,\n",
    "                    y = random_y0,\n",
    "                    mode='markers',\n",
    "                    name='markers')\n",
    "\n",
    "trace1 = go.Scatter(\n",
    "                    x = random_x,\n",
    "                    y = random_y1,\n",
    "                    mode='lines+markers',\n",
    "                    name='lines+markers'\n",
    "                    )\n",
    "\n",
    "\n",
    "trace2 = go.Scatter(\n",
    "                    x = random_x,\n",
    "                    y = random_y2,\n",
    "                    mode='lines',\n",
    "                    name='lines'\n",
    ")\n",
    "\n",
    "\n",
    "\n",
    "data = [trace0,trace1,trace2]\n",
    "plot(data, filename='scatterplot-two.html')\n"
   ]
  },
  {
   "cell_type": "code",
   "execution_count": 67,
   "metadata": {},
   "outputs": [
    {
     "data": {
      "text/plain": [
       "'scatterplot-three.html'"
      ]
     },
     "execution_count": 67,
     "metadata": {},
     "output_type": "execute_result"
    }
   ],
   "source": [
    "N=100\n",
    "random_x = np.random.randn(N)\n",
    "random_y0 = np.random.randn(N)+2\n",
    "random_y1 = np.random.randn(N)-2\n",
    "\n",
    "trace0 = go.Scatter(\n",
    "                    x = random_x,\n",
    "                    y = random_y0,\n",
    "                    name='Above',\n",
    "                    mode='markers',\n",
    "                    marker=dict(\n",
    "                        size=10,\n",
    "                        color='rgba(152,0,0,.8)',\n",
    "                        line = dict(\n",
    "                            width=2,\n",
    "                            color= 'rgba(0,0,0)'\n",
    "                        )\n",
    "                        \n",
    "                    \n",
    "                    ))\n",
    "\n",
    "trace1 = go.Scatter(\n",
    "                     x = random_x,\n",
    "                    y = random_y1,\n",
    "                    name='Bellow',\n",
    "                    mode='markers',\n",
    "                    marker=dict(\n",
    "                        size=10,\n",
    "                        color='rgba(255,182,193,.8)',\n",
    "                        line = dict(\n",
    "                            width=2\n",
    "                            \n",
    "                        )\n",
    "                        \n",
    "                    \n",
    "                    ))\n",
    "\n",
    "\n",
    "\n",
    "\n",
    "data = [trace0,trace1]\n",
    "layout = dict(\n",
    "                title='Scatter',\n",
    "                yaxis=dict(\n",
    "                        zeroline=False\n",
    "                        ),\n",
    "                xaxis = dict(\n",
    "                        zeroline=False\n",
    "                        )\n",
    "             \n",
    "             )\n",
    "fig= dict(data=data, layout=layout)\n",
    "plot(fig, filename='scatterplot-three.html')\n"
   ]
  },
  {
   "cell_type": "code",
   "execution_count": 68,
   "metadata": {},
   "outputs": [
    {
     "data": {
      "text/plain": [
       "'scatterplot-four.html'"
      ]
     },
     "execution_count": 68,
     "metadata": {},
     "output_type": "execute_result"
    }
   ],
   "source": [
    "trace= go.Scatter(\n",
    "    y=np.random.randn(500),\n",
    "    mode='markers',\n",
    "    marker=dict(\n",
    "        size=16,\n",
    "        color=np.random.randn(500),\n",
    "        colorscale='Viridis',\n",
    "        showscale=True\n",
    "        \n",
    "    )\n",
    ")\n",
    "data=[trace]\n",
    "plot(data, filename='scatterplot-four.html')"
   ]
  },
  {
   "cell_type": "code",
   "execution_count": 69,
   "metadata": {},
   "outputs": [
    {
     "data": {
      "text/plain": [
       "'scatterplot-five.html'"
      ]
     },
     "execution_count": 69,
     "metadata": {},
     "output_type": "execute_result"
    }
   ],
   "source": [
    "N=100000\n",
    "trace= go.Scattergl(\n",
    "    x=np.random.randn(N),\n",
    "    y=np.random.randn(N),\n",
    "    mode='markers',\n",
    "    marker=dict(\n",
    "        size=8,\n",
    "        color='#FFBAD2',\n",
    "        showscale=True,\n",
    "        line=dict(\n",
    "            width=1\n",
    "        )\n",
    "        \n",
    "    )\n",
    ")\n",
    "data=[trace]\n",
    "plot(data, filename='scatterplot-five.html')"
   ]
  },
  {
   "cell_type": "markdown",
   "metadata": {},
   "source": [
    "## Bubble Chart"
   ]
  },
  {
   "cell_type": "code",
   "execution_count": 70,
   "metadata": {},
   "outputs": [
    {
     "data": {
      "text/plain": [
       "'bubblechart.html'"
      ]
     },
     "execution_count": 70,
     "metadata": {},
     "output_type": "execute_result"
    }
   ],
   "source": [
    "trace0 = go.Scatter(\n",
    "    x=[1,3,5,6],\n",
    "    y=[10,20,15,13],\n",
    "    mode='markers',\n",
    "    marker=dict(\n",
    "        size=[20,30,40,50]\n",
    "    )\n",
    "    \n",
    ")\n",
    "data=[trace0]\n",
    "plot(data, filename='bubblechart.html')"
   ]
  },
  {
   "cell_type": "code",
   "execution_count": 71,
   "metadata": {},
   "outputs": [
    {
     "data": {
      "text/plain": [
       "'bubblechart-two.html'"
      ]
     },
     "execution_count": 71,
     "metadata": {},
     "output_type": "execute_result"
    }
   ],
   "source": [
    "trace0 = go.Scatter(\n",
    "    x=[1,3,5,6],\n",
    "    y=[10,20,15,13],\n",
    "    mode='markers',\n",
    "    marker=dict(\n",
    "        color=['#ff0000','#0f0000','#1f0000','#2f0000'],\n",
    "        opacity=[1,0.5,0.4,0.2],\n",
    "        size=[20,30,40,50]\n",
    "    )\n",
    "    \n",
    ")\n",
    "data=[trace0]\n",
    "plot(data, filename='bubblechart-two.html')"
   ]
  },
  {
   "cell_type": "code",
   "execution_count": 72,
   "metadata": {},
   "outputs": [
    {
     "data": {
      "text/plain": [
       "'bubblechart-two.html'"
      ]
     },
     "execution_count": 72,
     "metadata": {},
     "output_type": "execute_result"
    }
   ],
   "source": [
    "size=[100,20,50,50,20,60]\n",
    "trace0 = go.Scatter(\n",
    "    x=[1,3,5,6,8,7],\n",
    "    y=[10,20,15,13,21,11],\n",
    "    mode='markers',\n",
    "    marker=dict(\n",
    "        color=['#ff0000','#0f0000','#1f0000','#2f0000'],\n",
    "        opacity=[1,0.5,0.4,0.2],\n",
    "        size=size,\n",
    "        \n",
    "    )\n",
    "    \n",
    ")\n",
    "data=[trace0]\n",
    "plot(data, filename='bubblechart-two.html')"
   ]
  },
  {
   "cell_type": "code",
   "execution_count": 73,
   "metadata": {},
   "outputs": [
    {
     "data": {
      "text/plain": [
       "'bubblechart-three.html'"
      ]
     },
     "execution_count": 73,
     "metadata": {},
     "output_type": "execute_result"
    }
   ],
   "source": [
    "#Colorscale\n",
    "size=[10,12,15,15,22,26]\n",
    "trace0 = go.Scatter(\n",
    "    x=[1,3,5,6,8,9],\n",
    "    y=[10,20,25,33,41,51],\n",
    "    text=['A<br>size:100','B<br>size:20','C<br>size:50','D<br>size:50','E<br>size:20','F<br>size:60'],\n",
    "    mode='markers',\n",
    "    marker=dict(\n",
    "        color=[120,125,130,145,165,190],\n",
    "        opacity=[1,0.5,0.4,0.2],\n",
    "        size=size,\n",
    "        showscale=True\n",
    "        \n",
    "    )\n",
    "    \n",
    ")\n",
    "data=[trace0]\n",
    "plot(data, filename='bubblechart-three.html')"
   ]
  },
  {
   "cell_type": "code",
   "execution_count": 74,
   "metadata": {},
   "outputs": [
    {
     "data": {
      "text/plain": [
       "'bubblechart-four.html'"
      ]
     },
     "execution_count": 74,
     "metadata": {},
     "output_type": "execute_result"
    }
   ],
   "source": [
    "#TextHover\n",
    "size=[100,20,50,50,20,60]\n",
    "trace0 = go.Scatter(\n",
    "    x=[1,3,5,6,8,7],\n",
    "    y=[10,20,15,13,21,11],\n",
    "    text=['A<br>size:100','B<br>size:20','C<br>size:50','D<br>size:50','E<br>size:20','F<br>size:60'],\n",
    "    mode='markers',\n",
    "    marker=dict(\n",
    "        color=['#ff0000','#0f0000','#1f0000','#2f0000','#1f0000','#2f0000'],\n",
    "        opacity=[1,0.5,0.4,0.2],\n",
    "        size=size,\n",
    "        \n",
    "    )\n",
    "    \n",
    ")\n",
    "data=[trace0]\n",
    "plot(data, filename='bubblechart-four.html')"
   ]
  },
  {
   "cell_type": "markdown",
   "metadata": {},
   "source": [
    "## Simple Line Plot"
   ]
  },
  {
   "cell_type": "code",
   "execution_count": 75,
   "metadata": {},
   "outputs": [
    {
     "data": {
      "text/plain": [
       "'line-one.html'"
      ]
     },
     "execution_count": 75,
     "metadata": {},
     "output_type": "execute_result"
    }
   ],
   "source": [
    "N=500\n",
    "random_x = np.linspace(0,1,N)\n",
    "random_y = np.random.randn(N)\n",
    "\n",
    "trace= go.Scatter(\n",
    "    x = random_x,\n",
    "    y = random_y\n",
    "    \n",
    ")\n",
    "data=[trace]\n",
    "plot(data, filename='line-one.html')"
   ]
  },
  {
   "cell_type": "code",
   "execution_count": 76,
   "metadata": {},
   "outputs": [
    {
     "data": {
      "text/plain": [
       "'line-two.html'"
      ]
     },
     "execution_count": 76,
     "metadata": {},
     "output_type": "execute_result"
    }
   ],
   "source": [
    "N=300\n",
    "random_x = np.linspace(0,1,N)\n",
    "random_y1 = np.random.randn(N)+5\n",
    "random_y2 = np.random.randn(N)\n",
    "random_y3 = np.random.randn(N)-5\n",
    "\n",
    "trace1= go.Scatter(\n",
    "    x = random_x,\n",
    "    y = random_y1,\n",
    "    mode='lines',\n",
    "    name='lines'\n",
    "    \n",
    ")\n",
    "trace2= go.Scatter(\n",
    "    x = random_x,\n",
    "    y = random_y2,\n",
    "    mode='lines+markers',\n",
    "    name='lines+markers'\n",
    "    \n",
    ")\n",
    "trace3= go.Scatter(\n",
    "    x = random_x,\n",
    "    y = random_y3,\n",
    "    mode='markers',\n",
    "    name='markers'\n",
    "    \n",
    ")\n",
    "data=[trace1,trace2,trace3]\n",
    "plot(data, filename='line-two.html')"
   ]
  },
  {
   "cell_type": "code",
   "execution_count": 77,
   "metadata": {},
   "outputs": [],
   "source": [
    "##Data Gaps"
   ]
  },
  {
   "cell_type": "code",
   "execution_count": 78,
   "metadata": {},
   "outputs": [
    {
     "data": {
      "text/plain": [
       "'line-three.html'"
      ]
     },
     "execution_count": 78,
     "metadata": {},
     "output_type": "execute_result"
    }
   ],
   "source": [
    "trace1= go.Scatter(\n",
    "    x=[1,2,3,4,5,6,7,8,9,10],\n",
    "    y=[10,15,None,23,23,22,None, 22,None,11],\n",
    "    name='<b> No</b> Gaps',\n",
    "    connectgaps=True\n",
    "\n",
    ")\n",
    "\n",
    "trace2= go.Scatter(\n",
    "    x=[1,2,3,4,5,6,7,8,9,10] ,\n",
    "    y=[1.0,1.5,None,2.3,2.3,2.2,None, 2.2,None,1.1] ,\n",
    "    name='<b> Yes</b> Gaps',\n",
    "    connectgaps=False\n",
    "\n",
    ")\n",
    "data=[trace1,trace2]\n",
    "plot(data, filename='line-three.html')"
   ]
  },
  {
   "cell_type": "markdown",
   "metadata": {},
   "source": [
    "## Area Chart"
   ]
  },
  {
   "cell_type": "code",
   "execution_count": 79,
   "metadata": {},
   "outputs": [
    {
     "data": {
      "text/plain": [
       "'area-one.html'"
      ]
     },
     "execution_count": 79,
     "metadata": {},
     "output_type": "execute_result"
    }
   ],
   "source": [
    "trace = go.Scatter(\n",
    "    x=[1,2,3,4],\n",
    "    y=[0,1,2,3],\n",
    "    fill='tozeroy'\n",
    ")\n",
    "trace2 = go.Scatter(\n",
    "    x=[1,2,3,4],\n",
    "    y=[1,2,3,4],\n",
    "    fill='tonexty'\n",
    ")\n",
    "\n",
    "data=[trace,trace2]\n",
    "plot(data,filename='area-one.html')"
   ]
  },
  {
   "cell_type": "code",
   "execution_count": 80,
   "metadata": {},
   "outputs": [
    {
     "data": {
      "text/plain": [
       "'area-two.html'"
      ]
     },
     "execution_count": 80,
     "metadata": {},
     "output_type": "execute_result"
    }
   ],
   "source": [
    "#retirando linhas\n",
    "trace = go.Scatter(\n",
    "    x=[1,2,3,4],\n",
    "    y=[0,1,2,3],\n",
    "    fill='tozeroy',\n",
    "    mode='none'\n",
    ")\n",
    "trace2 = go.Scatter(\n",
    "    x=[1,2,3,4],\n",
    "    y=[1,2,3,4],\n",
    "    fill='tonexty',\n",
    "    mode='none'\n",
    ")\n",
    "\n",
    "data=[trace,trace2]\n",
    "plot(data,filename='area-two.html')"
   ]
  },
  {
   "cell_type": "markdown",
   "metadata": {},
   "source": [
    "## Stacked Area Chart"
   ]
  },
  {
   "cell_type": "code",
   "execution_count": 81,
   "metadata": {},
   "outputs": [
    {
     "data": {
      "text/plain": [
       "'area-three.html'"
      ]
     },
     "execution_count": 81,
     "metadata": {},
     "output_type": "execute_result"
    }
   ],
   "source": [
    "x=['a','b','c','d']\n",
    "trace0= dict(\n",
    "    x=x,\n",
    "    y=[40,60,40,10],\n",
    "    hoverinfo='x+y',\n",
    "    line=dict(\n",
    "        width=0.5,\n",
    "        color='rgb(131,90,241)',\n",
    "        \n",
    "    ),\n",
    "    stackgroup='one'\n",
    "\n",
    ")\n",
    "\n",
    "trace1= dict(\n",
    "    x=x,\n",
    "    y=[20,40,20,0],\n",
    "    hoverinfo='x+y',\n",
    "    line=dict(\n",
    "        width=0.5,\n",
    "        color='rgb(111,231,219)',\n",
    "        \n",
    "    ),\n",
    "    stackgroup='one'\n",
    "\n",
    ")\n",
    "\n",
    "trace2= dict(\n",
    "    x=x,\n",
    "    y=[10,10,10,2],\n",
    "    hoverinfo='x+y',\n",
    "    line=dict(\n",
    "        width=0.5,\n",
    "        color='rgb(11,23,21)',\n",
    "        \n",
    "    ),\n",
    "    stackgroup='one'\n",
    "\n",
    ")\n",
    "\n",
    "data = [trace0,trace1,trace2]\n",
    "fig=dict(data=data)\n",
    "plot(fig,filename='area-three.html',validate=False)"
   ]
  },
  {
   "cell_type": "markdown",
   "metadata": {},
   "source": [
    "## Bar chart"
   ]
  },
  {
   "cell_type": "code",
   "execution_count": 82,
   "metadata": {},
   "outputs": [
    {
     "data": {
      "text/plain": [
       "'bar-two.html'"
      ]
     },
     "execution_count": 82,
     "metadata": {},
     "output_type": "execute_result"
    }
   ],
   "source": [
    "#Agrupada\n",
    "trace= go.Bar(\n",
    "    x=['One','Two','Three'],\n",
    "    y=[10,20,15],\n",
    "    name='Group1'\n",
    ")\n",
    "trace2= go.Bar(\n",
    "    x=['One','Two','Three'],\n",
    "    y=[3,22,11],\n",
    "    name='Group2'\n",
    ")\n",
    "\n",
    "layout = go.Layout(\n",
    "    barmode='group'\n",
    ")\n",
    "\n",
    "data=[trace,trace2]\n",
    "fig = go.Figure(data=data, layout=layout)\n",
    "plot(fig,filename='bar-two.html')"
   ]
  },
  {
   "cell_type": "code",
   "execution_count": 83,
   "metadata": {},
   "outputs": [
    {
     "data": {
      "text/plain": [
       "'bar-three.html'"
      ]
     },
     "execution_count": 83,
     "metadata": {},
     "output_type": "execute_result"
    }
   ],
   "source": [
    "#X Angular\n",
    "trace= go.Bar(\n",
    "    x=['One','Two','Three'],\n",
    "    y=[10,20,15],\n",
    "    name='Group1',\n",
    "    text=['Text1','Text2','Text3'],\n",
    "    textposition='auto',\n",
    "    marker=dict(\n",
    "        color='rgb(158,202,66)',\n",
    "        line=dict(\n",
    "            color='rgb(122,132,189)',\n",
    "            width=1.5\n",
    "        ),\n",
    "        opacity=0.5\n",
    "    )\n",
    ")\n",
    "\n",
    "trace2= go.Bar(\n",
    "    x=['One','Two','Three'],\n",
    "    y=[12,10,11],\n",
    "    name='Group1',\n",
    "    text=['Text1','Text2','Text3'],\n",
    "    textposition='auto',\n",
    "    marker=dict(\n",
    "        color='rgb(258,202,66)',\n",
    "        line=dict(\n",
    "            color='rgb(222,132,189)',\n",
    "            width=1.5\n",
    "        ),\n",
    "        opacity=0.5\n",
    "    )\n",
    ")\n",
    "\n",
    "layout = go.Layout(\n",
    "    title='Inserindo titulo no grafico',\n",
    "    xaxis=dict(tickangle=-45),\n",
    "    barmode='group'\n",
    ")\n",
    "\n",
    "data=[trace,trace2]\n",
    "fig = go.Figure(data=data, layout=layout)\n",
    "plot(fig,filename='bar-three.html')"
   ]
  },
  {
   "cell_type": "code",
   "execution_count": 84,
   "metadata": {},
   "outputs": [
    {
     "data": {
      "text/plain": [
       "'bar-five.html'"
      ]
     },
     "execution_count": 84,
     "metadata": {},
     "output_type": "execute_result"
    }
   ],
   "source": [
    "#X Color em uma apenas\n",
    "trace= go.Bar(\n",
    "    x=['One','Two','Three','Four','Five'],\n",
    "    y=[10,11,10.5,12,11],\n",
    "    name='Group1',\n",
    "    textposition='auto',\n",
    "    marker=dict(\n",
    "        color=['rgba(204,202,201,1)','rgba(222,45,38,0.8)','rgba(204,202,201,1)','rgba(204,202,201,1)','rgba(204,202,201,1)'],\n",
    "        )\n",
    ")\n",
    "layout = go.Layout(\n",
    "    title='Inserindo titulo no grafico',\n",
    ")\n",
    "\n",
    "data=[trace]\n",
    "fig = go.Figure(data=data, layout=layout)\n",
    "plot(fig,filename='bar-five.html')"
   ]
  },
  {
   "cell_type": "code",
   "execution_count": 85,
   "metadata": {},
   "outputs": [],
   "source": [
    "# Individual width"
   ]
  },
  {
   "cell_type": "code",
   "execution_count": 86,
   "metadata": {},
   "outputs": [
    {
     "data": {
      "text/plain": [
       "'bar-six.html'"
      ]
     },
     "execution_count": 86,
     "metadata": {},
     "output_type": "execute_result"
    }
   ],
   "source": [
    "trace= go.Bar(\n",
    "    x=[1,3,4,7,11],\n",
    "    y=[10,11,10.5,12,11],\n",
    "    width=[1,0.2,1,1,5]\n",
    ")\n",
    "layout = go.Layout(\n",
    "    title='Inserindo titulo no grafico',\n",
    ")\n",
    "\n",
    "data=[trace]\n",
    "fig = go.Figure(data=data, layout=layout)\n",
    "plot(fig,filename='bar-six.html')"
   ]
  },
  {
   "cell_type": "code",
   "execution_count": 87,
   "metadata": {},
   "outputs": [
    {
     "data": {
      "text/plain": [
       "'bar-seven.html'"
      ]
     },
     "execution_count": 87,
     "metadata": {},
     "output_type": "execute_result"
    }
   ],
   "source": [
    "trace= go.Bar(\n",
    "    x=['2016','2017','2018'],\n",
    "    y=[110,300,500],\n",
    "    base=[-110,-300,-500],\n",
    "    \n",
    "    marker=dict(\n",
    "        color='red'\n",
    "    ),\n",
    "    name= 'expenses'\n",
    ")\n",
    "\n",
    "trace2= go.Bar(\n",
    "    x=['2016','2017','2018'],\n",
    "    y=[110,300,500],\n",
    "    base=[0,0,0],\n",
    "    \n",
    "    marker=dict(\n",
    "        color='blue'\n",
    "    ),\n",
    "    name= 'revenue'\n",
    ")\n",
    "\n",
    "\n",
    "layout = go.Layout(\n",
    "    title='Inserindo titulo no grafico',\n",
    ")\n",
    "\n",
    "data=[trace,trace2]\n",
    "fig = go.Figure(data=data, layout=layout)\n",
    "plot(fig,filename='bar-seven.html')"
   ]
  },
  {
   "cell_type": "markdown",
   "metadata": {},
   "source": [
    "## Horizontal Bar"
   ]
  },
  {
   "cell_type": "code",
   "execution_count": 88,
   "metadata": {},
   "outputs": [
    {
     "data": {
      "text/plain": [
       "'bar-h-one.html'"
      ]
     },
     "execution_count": 88,
     "metadata": {},
     "output_type": "execute_result"
    }
   ],
   "source": [
    "#Agrupada\n",
    "trace= go.Bar(\n",
    "    y=['One','Two','Three'],\n",
    "    x=[10,20,15],\n",
    "    name='Group1',\n",
    "    orientation='h'\n",
    ")\n",
    "trace2= go.Bar(\n",
    "    y=['One','Two','Three'],\n",
    "    x=[3,22,11],\n",
    "    name='Group2',\n",
    "    orientation='h'\n",
    "\n",
    ")\n",
    "\n",
    "layout = go.Layout(\n",
    "    barmode='group'\n",
    ")\n",
    "\n",
    "data=[trace,trace2]\n",
    "fig = go.Figure(data=data, layout=layout)\n",
    "plot(fig,filename='bar-h-one.html')"
   ]
  },
  {
   "cell_type": "markdown",
   "metadata": {},
   "source": [
    "## Gantt Chart"
   ]
  },
  {
   "cell_type": "code",
   "execution_count": 89,
   "metadata": {},
   "outputs": [],
   "source": [
    "import plotly.figure_factory as ff"
   ]
  },
  {
   "cell_type": "code",
   "execution_count": 90,
   "metadata": {},
   "outputs": [
    {
     "data": {
      "text/plain": [
       "'gantt.html'"
      ]
     },
     "execution_count": 90,
     "metadata": {},
     "output_type": "execute_result"
    }
   ],
   "source": [
    "df =[ dict(\n",
    "        Task='Job1',\n",
    "        Start='2021-01-01',\n",
    "        Finish='2021-02-01',\n",
    "        Complete=100,\n",
    "        Resource=['Cassio']\n",
    "        ),\n",
    "     dict(\n",
    "        Task='Job2',\n",
    "        Start='2020-01-10',\n",
    "        Finish='2020-02-01',\n",
    "        Complete=100\n",
    "     ),\n",
    "     dict(\n",
    "        Task='Job3',\n",
    "        Start='2021-01-15',\n",
    "        Finish='2021-03-01',\n",
    "        Complete=95\n",
    "     ),\n",
    "     dict(\n",
    "        Task='Job4',\n",
    "        Start='2020-10-15',\n",
    "        Finish='2021-03-01',\n",
    "        Complete=60\n",
    "        ),\n",
    "     dict(\n",
    "        Task='Job5',\n",
    "        Start='2020-01-15',\n",
    "        Finish='2020-08-01',\n",
    "        Complete=10\n",
    "        )\n",
    "    ]\n",
    "fig = ff.create_gantt(df,colors='Viridis',\n",
    "                     index_col='Complete',\n",
    "                     show_colorbar=True)\n",
    "plot(fig,filename='gantt.html')\n"
   ]
  },
  {
   "cell_type": "markdown",
   "metadata": {},
   "source": [
    "## Pie Chart"
   ]
  },
  {
   "cell_type": "code",
   "execution_count": 91,
   "metadata": {},
   "outputs": [
    {
     "data": {
      "text/plain": [
       "'temp-plot.html'"
      ]
     },
     "execution_count": 91,
     "metadata": {},
     "output_type": "execute_result"
    }
   ],
   "source": [
    "labels=['O2','NO2','CO2','SO2']\n",
    "values=[30,20,10,40]\n",
    "trace = go.Pie(labels=labels, values=values)\n",
    "plot([trace])"
   ]
  },
  {
   "cell_type": "code",
   "execution_count": 92,
   "metadata": {},
   "outputs": [
    {
     "data": {
      "text/plain": [
       "'pie.html'"
      ]
     },
     "execution_count": 92,
     "metadata": {},
     "output_type": "execute_result"
    }
   ],
   "source": [
    "labels=['O2','NO2','CO2','SO2']\n",
    "values=[30,20,10,40]\n",
    "colors=['#1EBAB3','#2A3FC3','#3E3FB2','#0EF0B3']\n",
    "trace = go.Pie(\n",
    "    labels=labels, \n",
    "    values=values,\n",
    "    textinfo='value',\n",
    "    hoverinfo='label+percent',\n",
    "    textfont=dict(size=20),\n",
    "    marker=dict(colors=colors,\n",
    "                   line=dict(\n",
    "                       color='#000000',\n",
    "                       width=2\n",
    "                   )\n",
    "               )\n",
    ")\n",
    "plot([trace],filename='pie.html')"
   ]
  },
  {
   "cell_type": "markdown",
   "metadata": {},
   "source": [
    "## Tables\n"
   ]
  },
  {
   "cell_type": "code",
   "execution_count": 93,
   "metadata": {},
   "outputs": [
    {
     "data": {
      "text/plain": [
       "'temp-plot.html'"
      ]
     },
     "execution_count": 93,
     "metadata": {},
     "output_type": "execute_result"
    }
   ],
   "source": [
    "trace = go.Table(\n",
    "    header=dict(\n",
    "                values=['A Score','B Score'],\n",
    "                line=dict(color='#7D7F80'),\n",
    "                fill=dict(color= '#a1c2d3'),\n",
    "                align = ['left']*5\n",
    "               ),\n",
    "    cells=dict(\n",
    "                values=[[10,20,30],[40,50,60]],\n",
    "                line=dict(color='#7D7F80'),\n",
    "                fill=dict(color= '#EDFAFF'),\n",
    "                align = ['left']*5\n",
    "              )\n",
    "\n",
    ")\n",
    "layout= dict(width=500,heigth=500)\n",
    "data = [trace]\n",
    "plot(data)\n",
    "#fig = dict(data,layout=layout)"
   ]
  },
  {
   "cell_type": "code",
   "execution_count": 94,
   "metadata": {},
   "outputs": [
    {
     "data": {
      "text/plain": [
       "'temp-plot.html'"
      ]
     },
     "execution_count": 94,
     "metadata": {},
     "output_type": "execute_result"
    }
   ],
   "source": [
    "trace = go.Table(\n",
    "    header=dict(values=['A Score','B Score']),\n",
    "    cells=dict(values=[[10,20,30],[40,50,60]])\n",
    "\n",
    ")\n",
    "layout= dict(width=500,heigth=500)\n",
    "data = [trace]\n",
    "plot(data)"
   ]
  },
  {
   "cell_type": "code",
   "execution_count": 95,
   "metadata": {},
   "outputs": [
    {
     "data": {
      "text/plain": [
       "'table-color.html'"
      ]
     },
     "execution_count": 95,
     "metadata": {},
     "output_type": "execute_result"
    }
   ],
   "source": [
    "#!pip3 install colorlover\n",
    "import numpy as np\n",
    "import colorlover as cl\n",
    "\n",
    "colors = cl.scales['9']['seq']['Reds']\n",
    "a = np.random.randint(low=0, high=9, size=10)\n",
    "b = np.random.randint(low=0, high=9, size=10)\n",
    "c = np.random.randint(low=0, high=9, size=10)\n",
    "\n",
    "\n",
    "trace0 = go.Table(\n",
    "  header = dict(\n",
    "    values = ['<b>Column A</b>', '<b>Column B</b>', '<b>Column C</b>'],\n",
    "    line = dict(color = 'white'),\n",
    "    fill = dict(color = 'white'),\n",
    "    align = 'center',\n",
    "    font = dict(color = 'black', size = 12)\n",
    "  ),\n",
    "  cells = dict(\n",
    "    values = [a,b,c],\n",
    "    line = dict(color = [np.array(colors)[a],np.array(colors)[b],\n",
    "                        np.array(colors)[c]]),\n",
    "    fill = dict(color = [np.array(colors)[a],np.array(colors)[b],\n",
    "                        np.array(colors)[c]]),\n",
    "    align = 'center',\n",
    "    font = dict(color = 'white', size = 11)\n",
    "    ))\n",
    "\n",
    "data = [trace0]\n",
    "\n",
    "plot(data,filename='table-color.html')"
   ]
  },
  {
   "cell_type": "markdown",
   "metadata": {},
   "source": [
    "## Multiple Visualization"
   ]
  },
  {
   "cell_type": "code",
   "execution_count": 96,
   "metadata": {},
   "outputs": [
    {
     "data": {
      "text/plain": [
       "'temp-plot.html'"
      ]
     },
     "execution_count": 96,
     "metadata": {},
     "output_type": "execute_result"
    }
   ],
   "source": [
    "\n",
    "trace1 = go.Scatter(\n",
    "    x=np.sort(a),\n",
    "    y=np.sort(b)\n",
    ")\n",
    "trace2 = go.Bar(\n",
    "    x=a,\n",
    "    y=c\n",
    ")\n",
    "data=[trace1,trace2]\n",
    "plot(data,'multiple.html')\n"
   ]
  },
  {
   "cell_type": "code",
   "execution_count": 97,
   "metadata": {},
   "outputs": [
    {
     "data": {
      "text/plain": [
       "'table.html'"
      ]
     },
     "execution_count": 97,
     "metadata": {},
     "output_type": "execute_result"
    }
   ],
   "source": [
    "    import json\n",
    "    import six.moves.urllib\n",
    "    \n",
    "    response = six.moves.urllib.request.urlopen('https://raw.githubusercontent.com/plotly/datasets/master/steepest.json')\n",
    "    data = json.load(response)\n",
    "    \n",
    "    trace1 = go.Contour(\n",
    "        z=data['contour_z'][0],\n",
    "        y=data['contour_y'][0],\n",
    "        x=data['contour_x'][0],\n",
    "        ncontours=30,\n",
    "        showscale=False\n",
    "    )\n",
    "    trace2 = go.Scatter(\n",
    "        x=data['trace_x'],\n",
    "        y=data['trace_y'],\n",
    "        mode='markers+lines',\n",
    "        name='steepest',\n",
    "        line=dict(\n",
    "            color='black',\n",
    "        )\n",
    "    )\n",
    "    \n",
    "    data = [trace1, trace2]\n",
    "    plot(data,filename='table.html')\n"
   ]
  },
  {
   "cell_type": "markdown",
   "metadata": {},
   "source": [
    "## LogPlot"
   ]
  },
  {
   "cell_type": "code",
   "execution_count": 98,
   "metadata": {},
   "outputs": [
    {
     "data": {
      "text/plain": [
       "'logplot.html'"
      ]
     },
     "execution_count": 98,
     "metadata": {},
     "output_type": "execute_result"
    }
   ],
   "source": [
    "a = np.sort(np.random.randint(low=0,high=10,size=9))\n",
    "b = np.sort(np.random.randint(low=0,high=10,size=9))\n",
    "c = np.sort(np.random.randint(low=0,high=10,size=9))\n",
    "\n",
    "trace1 = go.Scatter(\n",
    "    x=a,\n",
    "    y=b\n",
    "    \n",
    ")\n",
    "\n",
    "trace2 = go.Scatter(\n",
    "    x=a,\n",
    "    y=c\n",
    "    \n",
    ")\n",
    "layout= go.Layout(\n",
    "    xaxis=dict(\n",
    "        type='log',\n",
    "        autorange= True\n",
    "    ),\n",
    "    yaxis = dict(\n",
    "        type='log',\n",
    "        autorange=True\n",
    "    )\n",
    ")\n",
    "data=[trace1,trace2]\n",
    "fig = go.Figure(data=data, layout=layout)\n",
    "plot(fig,filename='logplot.html')"
   ]
  },
  {
   "cell_type": "markdown",
   "metadata": {},
   "source": [
    "## RADAR CHART"
   ]
  },
  {
   "cell_type": "code",
   "execution_count": 99,
   "metadata": {},
   "outputs": [
    {
     "data": {
      "text/plain": [
       "'temp-plot.html'"
      ]
     },
     "execution_count": 99,
     "metadata": {},
     "output_type": "execute_result"
    }
   ],
   "source": [
    "trace = go.Scatterpolar(\n",
    "    r=a[:-4],\n",
    "    theta=['A','B','C','D','E'],\n",
    "    fill = 'toself'\n",
    "    \n",
    ")\n",
    "\n",
    "data=[trace]\n",
    "layout=go.Layout(\n",
    "    polar=dict(\n",
    "        radialaxis= dict(\n",
    "            visible=True,\n",
    "            range=[0,5]\n",
    "        ))\n",
    "        \n",
    ")\n",
    "fig=go.Figure(data=data, layout=layout)\n",
    "plot(fig)"
   ]
  },
  {
   "cell_type": "code",
   "execution_count": 100,
   "metadata": {},
   "outputs": [
    {
     "ename": "TypeError",
     "evalue": "plot() got an unexpected keyword argument 'filaname'",
     "output_type": "error",
     "traceback": [
      "\u001b[1;31m---------------------------------------------------------------------------\u001b[0m",
      "\u001b[1;31mTypeError\u001b[0m                                 Traceback (most recent call last)",
      "\u001b[1;32m<ipython-input-100-c6321991532c>\u001b[0m in \u001b[0;36m<module>\u001b[1;34m\u001b[0m\n\u001b[0;32m     25\u001b[0m )\n\u001b[0;32m     26\u001b[0m \u001b[0mfig\u001b[0m\u001b[1;33m=\u001b[0m\u001b[0mgo\u001b[0m\u001b[1;33m.\u001b[0m\u001b[0mFigure\u001b[0m\u001b[1;33m(\u001b[0m\u001b[0mdata\u001b[0m\u001b[1;33m=\u001b[0m\u001b[0mdata\u001b[0m\u001b[1;33m,\u001b[0m \u001b[0mlayout\u001b[0m\u001b[1;33m=\u001b[0m\u001b[0mlayout\u001b[0m\u001b[1;33m)\u001b[0m\u001b[1;33m\u001b[0m\u001b[1;33m\u001b[0m\u001b[0m\n\u001b[1;32m---> 27\u001b[1;33m \u001b[0mplot\u001b[0m\u001b[1;33m(\u001b[0m\u001b[0mfig\u001b[0m\u001b[1;33m,\u001b[0m\u001b[0mfilaname\u001b[0m\u001b[1;33m=\u001b[0m\u001b[1;34m'radarchart.html'\u001b[0m\u001b[1;33m)\u001b[0m\u001b[1;33m\u001b[0m\u001b[1;33m\u001b[0m\u001b[0m\n\u001b[0m",
      "\u001b[1;31mTypeError\u001b[0m: plot() got an unexpected keyword argument 'filaname'"
     ]
    }
   ],
   "source": [
    "trace = go.Scatterpolar(\n",
    "    r=a[:-4],\n",
    "    theta=['A','B','C','D','E'],\n",
    "    fill = 'toself',\n",
    "    name='Group A'\n",
    "    \n",
    ")\n",
    "\n",
    "trace1 = go.Scatterpolar(\n",
    "    r=b[:-4],\n",
    "    theta=['A','B','C','D','E'],\n",
    "    fill = 'toself',\n",
    "    name='Group B'\n",
    "    \n",
    ")\n",
    "\n",
    "data=[trace,trace1]\n",
    "layout=go.Layout(\n",
    "    polar=dict(\n",
    "        radialaxis= dict(\n",
    "            visible=True,\n",
    "            range=[0,5]\n",
    "        ))\n",
    "        \n",
    ")\n",
    "fig=go.Figure(data=data, layout=layout)\n",
    "plot(fig,filaname='radarchart.html')\n"
   ]
  },
  {
   "cell_type": "markdown",
   "metadata": {},
   "source": [
    "## Capertplot"
   ]
  },
  {
   "cell_type": "code",
   "execution_count": null,
   "metadata": {},
   "outputs": [],
   "source": [
    "trace = go.Carpet(\n",
    "    a=[4,4,4,4.5,4.5,4.5,5,5,5,6,6,6],\n",
    "    b=[1,2,3,1,2,3,1,2,3,1,2,3],\n",
    "    y=[2,3.5,4,3,4.5,5,5.5,6.6,7.5,8,8.5,10],\n",
    "    aaxis=dict(\n",
    "        tickprefix='a = ',\n",
    "        ticksuffix= 'm',\n",
    "        smoothing=1,\n",
    "        minorgridcount=9\n",
    "    ),\n",
    "    baxis = dict(\n",
    "        tickprefix='b = ',\n",
    "        ticksuffix= 'Pa',\n",
    "        smoothing=1,\n",
    "        minorgridcount=9\n",
    "    )\n",
    "    \n",
    ")\n",
    "\n",
    "trace1 = go.Scattercarpet(\n",
    "    a=[4,4.5,5,6],\n",
    "    b=[2.5,2.5,2.5,2.5],\n",
    "    line= dict(\n",
    "        shape='spline',\n",
    "        smoothing=1,\n",
    "        color='blue'\n",
    "    )\n",
    ")\n",
    "\n",
    "\n",
    "data=[trace,trace1]\n",
    "fig=go.Figure(data=data)\n",
    "plot(fig,filename='carpetplot.html')\n"
   ]
  },
  {
   "cell_type": "markdown",
   "metadata": {},
   "source": [
    "## Basic Streamline"
   ]
  },
  {
   "cell_type": "code",
   "execution_count": null,
   "metadata": {},
   "outputs": [],
   "source": [
    "x = y = np.linspace(-3,3,100)\n",
    "Y,X = np.meshgrid(x,y)\n",
    "u=-1 - X**3 + Y\n",
    "v= 1 +X - Y**2\n",
    "fig=ff.create_streamline(x,y,u,v,arrow_scale=0.1)\n",
    "plot(fig,filaname='Streamline.html')"
   ]
  },
  {
   "cell_type": "markdown",
   "metadata": {},
   "source": [
    "## Basic Quiver Plot"
   ]
  },
  {
   "cell_type": "code",
   "execution_count": null,
   "metadata": {},
   "outputs": [],
   "source": [
    "x,y = np.meshgrid(np.arange(0,2,0.2),np.arange(0,2,0.2))\n",
    "u=np.cos(x)*y\n",
    "v = np.sin(x)*y\n",
    "\n",
    "fig = ff.create_quiver(x,y,u,v)\n",
    "plot(fig,filename='basicquiver.html')"
   ]
  },
  {
   "cell_type": "markdown",
   "metadata": {},
   "source": [
    "## Basic Heatmap"
   ]
  },
  {
   "cell_type": "code",
   "execution_count": null,
   "metadata": {},
   "outputs": [],
   "source": [
    "import datetime"
   ]
  },
  {
   "cell_type": "code",
   "execution_count": null,
   "metadata": {},
   "outputs": [],
   "source": [
    "trace = go.Heatmap(\n",
    "    z = [[1,20,30,80,1],[20,1,60,30,22],[30,60,1,22,2]],\n",
    "    x=['S','T','Qu','Q','Se'],\n",
    "    y=['M','T','N'],\n",
    ")\n",
    "data=[trace]\n",
    "plot(data,filename='heatmap.html')"
   ]
  },
  {
   "cell_type": "markdown",
   "metadata": {},
   "source": [
    "## Dendogram"
   ]
  },
  {
   "cell_type": "code",
   "execution_count": null,
   "metadata": {},
   "outputs": [],
   "source": [
    "X = np.random.rand(10,10)\n",
    "names = ['A','B','C','D','E','F','G','H','I','J']\n",
    "\n",
    "dendro = ff.create_dendrogram(X,color_threshold=1.5,labels=names)\n",
    "dendro['layout'].update(\n",
    "    {\n",
    "        'width':800,\n",
    "        'height': 500\n",
    "    }\n",
    ")\n",
    "plot(dendro,filename='dendro.html')"
   ]
  },
  {
   "cell_type": "markdown",
   "metadata": {},
   "source": [
    "## WindRose"
   ]
  },
  {
   "cell_type": "code",
   "execution_count": null,
   "metadata": {},
   "outputs": [],
   "source": [
    "\"\"\"trace1 = go.Barpolar(\n",
    "    r=[77.5, 72.5, 70.0, 45.0, \n",
    "       22.5, 42.5, 40.0, 62.5],\n",
    "    text=['North', 'N-E', 'East', \n",
    "          'S-E', 'South', 'S-W', \n",
    "          'West', 'N-W'],\n",
    "    name='11-14 m/s',\n",
    "    marker=dict(\n",
    "        color='rgb(106,81,163)'\n",
    "    )\n",
    ")\n",
    "trace2 = go.Barpolar(\n",
    "    r=[57.49999999999999, 50.0, \n",
    "       45.0, 35.0, 20.0, 22.5, \n",
    "       37.5, 55.00000000000001],\n",
    "    text=['North', 'N-E', 'East', \n",
    "          'S-E', 'South', 'S-W', \n",
    "          'West', 'N-W'],\n",
    "    name='8-11 m/s',\n",
    "    marker=dict(\n",
    "        color='rgb(158,154,200)'\n",
    "    )\n",
    ")\n",
    "trace3 = go.Barpolar(\n",
    "    r=[40.0, 30.0, 30.0, 35.0, \n",
    "       7.5, 7.5, 32.5, 40.0],\n",
    "    text=['North', 'N-E', 'East', \n",
    "          'S-E', 'South', 'S-W', \n",
    "          'West', 'N-W'],\n",
    "    name='5-8 m/s',\n",
    "    marker=dict(\n",
    "        color='rgb(203,201,226)'\n",
    "    )\n",
    ")\n",
    "trace4 = go.Barpolar(\n",
    "    r=[20.0, 7.5, 15.0, 22.5, \n",
    "       2.5, 2.5, 12.5, 22.5],\n",
    "    text=['North', 'N-E', 'East', \n",
    "          'S-E', 'South', 'S-W', \n",
    "          'West', 'N-W'],\n",
    "    name='< 5 m/s',\n",
    "    marker=dict(\n",
    "        color='rgb(242,240,247)'\n",
    "    )\n",
    ")\n",
    "data = [trace1, trace2, trace3, trace4]\n",
    "layout = go.Layout(\n",
    "    title='Wind Speed Distribution in Laurel, NE',\n",
    "    font=dict(\n",
    "        size=16\n",
    "    ),\n",
    "    legend=dict(\n",
    "        font=dict(\n",
    "            size=16\n",
    "        )\n",
    "    ),\n",
    "    radialaxis=dict(\n",
    "        ticksuffix='%'\n",
    "    ),\n",
    "    orientation=270\n",
    ")\n",
    "fig = go.Figure(data=data, layout=layout)\n",
    "plot(fig, filename='polar-area-chart.html')\"\"\""
   ]
  },
  {
   "cell_type": "markdown",
   "metadata": {},
   "source": [
    "## Contour"
   ]
  },
  {
   "cell_type": "code",
   "execution_count": null,
   "metadata": {},
   "outputs": [],
   "source": [
    "\n",
    "trace =     go.Contour(\n",
    "        z=[[10, 10.625, 12.5, 15.625, 20],\n",
    "           [5.625, 6.25, 8.125, 11.25, 15.625],\n",
    "           [2.5, 3.125, 5., 8.125, 12.5],\n",
    "           [0.625, 1.25, 3.125, 6.25, 10.625],\n",
    "           [0, 0.625, 2.5, 5.625, 10]]\n",
    "    )\n",
    "\n",
    "data = [trace]\n",
    "plot(data,filename='contour.html')"
   ]
  },
  {
   "cell_type": "code",
   "execution_count": null,
   "metadata": {},
   "outputs": [],
   "source": [
    "data = [\n",
    "    go.Contour(\n",
    "        z=[[10, 10.625, 12.5, 15.625, 20],\n",
    "           [5.625, 6.25, 8.125, 11.25, 15.625],\n",
    "           [2.5, 3.125, 5., 8.125, 12.5],\n",
    "           [0.625, 1.25, 3.125, 6.25, 10.625],\n",
    "           [0, 0.625, 2.5, 5.625, 10]],\n",
    "        x=[-9, -6, -5 , -3, -1],\n",
    "        y=[0, 1, 4, 5, 7]\n",
    "    )]\n",
    "\n",
    "plot(data,filename='contour2.html')"
   ]
  },
  {
   "cell_type": "code",
   "execution_count": null,
   "metadata": {},
   "outputs": [],
   "source": [
    "data = [\n",
    "     go.Contour(\n",
    "        z=[[10, 10.625, 12.5, 15.625, 20],\n",
    "           [5.625, 6.25, 8.125, 11.25, 15.625],\n",
    "           [2.5, 3.125, 5., 8.125, 12.5],\n",
    "           [0.625, 1.25, 3.125, 6.25, 10.625],\n",
    "           [0, 0.625, 2.5, 5.625, 10]],\n",
    "#        colorscale='Jet',\n",
    "         colorscale='Viridis'\n",
    "    )]\n",
    "plot(data,filename='contour3.html')"
   ]
  },
  {
   "cell_type": "code",
   "execution_count": null,
   "metadata": {},
   "outputs": [],
   "source": [
    "data = [\n",
    "    go.Contour(\n",
    "        z=[[10, 10.625, 12.5, 15.625, 20],\n",
    "           [5.625, 6.25, 8.125, 11.25, 15.625],\n",
    "           [2.5, 3.125, 5., 8.125, 12.5],\n",
    "           [0.625, 1.25, 3.125, 6.25, 10.625],\n",
    "           [0, 0.625, 2.5, 5.625, 10]],\n",
    "        colorscale='Jet',\n",
    "        autocontour=False,\n",
    "        contours=dict(\n",
    "            start=0,\n",
    "            end=8,\n",
    "            size=2\n",
    "        )\n",
    "    )\n",
    "]\n",
    "plot(data,filename='contour4.html')"
   ]
  },
  {
   "cell_type": "code",
   "execution_count": null,
   "metadata": {},
   "outputs": [],
   "source": [
    "data = [\n",
    "    {\n",
    "        'z': [[10, 10.625, 12.5, 15.625, 20],\n",
    "              [5.625, 6.25, 8.125, 11.25, 15.625],\n",
    "              [2.5, 3.125, 5., 8.125, 12.5],\n",
    "              [0.625, 1.25, 3.125, 6.25, 10.625],\n",
    "              [0, 0.625, 2.5, 5.625, 10]],\n",
    "        'colorscale':'Jet',\n",
    "        'type': u'contour',\n",
    "        'dx': 10,\n",
    "        'x0': 5,\n",
    "        'dy': 10,\n",
    "        'y0':10\n",
    "    }\n",
    "]\n",
    "plot(data,filename='contour5.html')"
   ]
  },
  {
   "cell_type": "code",
   "execution_count": null,
   "metadata": {},
   "outputs": [],
   "source": [
    "trace0 = go.Contour(\n",
    "    z=[[2, 4, 7, 12, 13, 14, 15, 16],\n",
    "       [3, 1, 6, 11, 12, 13, 16, 17],\n",
    "       [4, 2, 7, 7, 11, 14, 17, 18],\n",
    "       [5, 3, 8, 8, 13, 15, 18, 19],\n",
    "       [7, 4, 10, 9, 16, 18, 20, 19],\n",
    "       [9, 10, 5, 27, 23, 21, 21, 21],\n",
    "       [11, 14, 17, 26, 25, 24, 23, 22]],\n",
    "    line=dict(smoothing=0)\n",
    ")\n",
    "trace1 = go.Contour(\n",
    "    z=[[2, 4, 7, 12, 13, 14, 15, 16],\n",
    "       [3, 1, 6, 11, 12, 13, 16, 17],\n",
    "       [4, 2, 7, 7, 11, 14, 17, 18],\n",
    "       [5, 3, 8, 8, 13, 15, 18, 19],\n",
    "       [7, 4, 10, 9, 16, 18, 20, 19],\n",
    "       [9, 10, 5, 27, 23, 21, 21, 21],\n",
    "       [11, 14, 17, 26, 25, 24, 23, 22]],\n",
    "    line=dict(smoothing=1)\n",
    ")\n",
    "\n",
    "fig = tools.make_subplots(rows=1, cols=2,\n",
    "                          subplot_titles=('Without Smoothing', \n",
    "                                          'With Smoothing'))\n",
    "\n",
    "fig.append_trace(trace0, 1, 1)\n",
    "fig.append_trace(trace1, 1, 2)\n",
    "\n",
    "plot(fig,filename='contour6.html')"
   ]
  },
  {
   "cell_type": "code",
   "execution_count": null,
   "metadata": {},
   "outputs": [],
   "source": [
    "data=[\n",
    "    go.Contour(\n",
    "        z=[[10, 10.625, 12.5, 15.625, 20],\n",
    "           [5.625, 6.25, 8.125, 11.25, 15.625],\n",
    "           [2.5, 3.125, 5., 8.125, 12.5],\n",
    "           [0.625, 1.25, 3.125, 6.25, 10.625],\n",
    "           [0, 0.625, 2.5, 5.625, 10]],\n",
    "        contours=dict(\n",
    "            coloring ='heatmap',\n",
    "            showlabels = True,\n",
    "            labelfont = dict(\n",
    "                family = 'Raleway',\n",
    "                size = 12,\n",
    "                color = 'white'\n",
    "            )\n",
    "        )\n",
    "    )\n",
    "]\n",
    "\n",
    "plot(data,filename='contour7.html')"
   ]
  },
  {
   "cell_type": "code",
   "execution_count": null,
   "metadata": {},
   "outputs": [],
   "source": []
  },
  {
   "cell_type": "code",
   "execution_count": null,
   "metadata": {},
   "outputs": [],
   "source": []
  },
  {
   "cell_type": "code",
   "execution_count": null,
   "metadata": {},
   "outputs": [],
   "source": []
  },
  {
   "cell_type": "code",
   "execution_count": null,
   "metadata": {},
   "outputs": [],
   "source": []
  },
  {
   "cell_type": "code",
   "execution_count": null,
   "metadata": {},
   "outputs": [],
   "source": []
  },
  {
   "cell_type": "code",
   "execution_count": null,
   "metadata": {},
   "outputs": [],
   "source": []
  },
  {
   "cell_type": "code",
   "execution_count": null,
   "metadata": {},
   "outputs": [],
   "source": []
  }
 ],
 "metadata": {
  "kernelspec": {
   "display_name": "Python 3",
   "language": "python",
   "name": "python3"
  },
  "language_info": {
   "codemirror_mode": {
    "name": "ipython",
    "version": 3
   },
   "file_extension": ".py",
   "mimetype": "text/x-python",
   "name": "python",
   "nbconvert_exporter": "python",
   "pygments_lexer": "ipython3",
   "version": "3.8.5"
  }
 },
 "nbformat": 4,
 "nbformat_minor": 4
}
